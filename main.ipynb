{
 "cells": [
  {
   "cell_type": "code",
   "execution_count": 1,
   "metadata": {},
   "outputs": [],
   "source": [
    "import streamlit as st\n",
    "from PyPDF2 import PdfReader, PdfWriter\n",
    "from reportlab.pdfgen import canvas\n",
    "from reportlab.pdfbase.ttfonts import TTFont\n",
    "from reportlab.pdfbase import pdfmetrics\n",
    "from reportlab.lib.pagesizes import letter\n",
    "from io import BytesIO\n"
   ]
  },
  {
   "cell_type": "code",
   "execution_count": 2,
   "metadata": {},
   "outputs": [],
   "source": [
    "# Load the PDF\n",
    "pdf_path = 'doc.pdf'\n",
    "font_path = \"/Users/edeneldar/Downloads/Open_Sans/OpenSans-VariableFont_wdth,wght.ttf\"  # Adjust this to the path of your font file\n",
    "\n"
   ]
  },
  {
   "cell_type": "code",
   "execution_count": 3,
   "metadata": {},
   "outputs": [],
   "source": [
    "fields = {\n",
    "    'name': '',\n",
    "    'date': '',\n",
    "    'height': '',\n",
    "    'weight': '',\n",
    "}"
   ]
  },
  {
   "cell_type": "code",
   "execution_count": 4,
   "metadata": {},
   "outputs": [],
   "source": [
    "packet = BytesIO()\n",
    "can = canvas.Canvas(packet, pagesize=letter)"
   ]
  },
  {
   "cell_type": "code",
   "execution_count": 5,
   "metadata": {},
   "outputs": [
    {
     "ename": "TTFError",
     "evalue": "Can't open file \"OpenSans-VariableFont_wdth,wght.ttf\"",
     "output_type": "error",
     "traceback": [
      "\u001b[0;31m---------------------------------------------------------------------------\u001b[0m",
      "\u001b[0;31mFileNotFoundError\u001b[0m                         Traceback (most recent call last)",
      "File \u001b[0;32m/opt/anaconda3/lib/python3.11/site-packages/reportlab/lib/utils.py:523\u001b[0m, in \u001b[0;36mopen_for_read.<locals>.open_for_read\u001b[0;34m(name, mode)\u001b[0m\n\u001b[1;32m    522\u001b[0m \u001b[38;5;28;01mtry\u001b[39;00m:\n\u001b[0;32m--> 523\u001b[0m     \u001b[38;5;28;01mreturn\u001b[39;00m open_for_read_by_name(name,mode)\n\u001b[1;32m    524\u001b[0m \u001b[38;5;28;01mexcept\u001b[39;00m:\n",
      "File \u001b[0;32m/opt/anaconda3/lib/python3.11/site-packages/reportlab/lib/utils.py:463\u001b[0m, in \u001b[0;36mopen_for_read_by_name\u001b[0;34m(name, mode)\u001b[0m\n\u001b[1;32m    462\u001b[0m \u001b[38;5;28;01mtry\u001b[39;00m:\n\u001b[0;32m--> 463\u001b[0m     \u001b[38;5;28;01mreturn\u001b[39;00m \u001b[38;5;28mopen\u001b[39m(name,mode)\n\u001b[1;32m    464\u001b[0m \u001b[38;5;28;01mexcept\u001b[39;00m \u001b[38;5;167;01mIOError\u001b[39;00m:\n",
      "\u001b[0;31mFileNotFoundError\u001b[0m: [Errno 2] No such file or directory: 'OpenSans-VariableFont_wdth,wght.ttf'",
      "\nDuring handling of the above exception, another exception occurred:\n",
      "\u001b[0;31mValueError\u001b[0m                                Traceback (most recent call last)",
      "File \u001b[0;32m/opt/anaconda3/lib/python3.11/site-packages/reportlab/lib/utils.py:530\u001b[0m, in \u001b[0;36mopen_for_read.<locals>.open_for_read\u001b[0;34m(name, mode)\u001b[0m\n\u001b[1;32m    529\u001b[0m             \u001b[38;5;28;01mraise\u001b[39;00m \u001b[38;5;167;01mValueError\u001b[39;00m(\u001b[38;5;124m'\u001b[39m\u001b[38;5;124mAttempted untrusted host access\u001b[39m\u001b[38;5;124m'\u001b[39m)\n\u001b[0;32m--> 530\u001b[0m     \u001b[38;5;28;01mreturn\u001b[39;00m BytesIO((datareader \u001b[38;5;28;01mif\u001b[39;00m name[:\u001b[38;5;241m5\u001b[39m]\u001b[38;5;241m.\u001b[39mlower()\u001b[38;5;241m==\u001b[39m\u001b[38;5;124m'\u001b[39m\u001b[38;5;124mdata:\u001b[39m\u001b[38;5;124m'\u001b[39m \u001b[38;5;28;01melse\u001b[39;00m rlUrlRead)(name))\n\u001b[1;32m    531\u001b[0m \u001b[38;5;28;01mexcept\u001b[39;00m:\n",
      "File \u001b[0;32m/opt/anaconda3/lib/python3.11/site-packages/reportlab/lib/utils.py:476\u001b[0m, in \u001b[0;36mrlUrlRead\u001b[0;34m(name)\u001b[0m\n\u001b[1;32m    475\u001b[0m \u001b[38;5;28;01mdef\u001b[39;00m \u001b[38;5;21mrlUrlRead\u001b[39m(name):\n\u001b[0;32m--> 476\u001b[0m     \u001b[38;5;28;01mreturn\u001b[39;00m urlopen(name)\u001b[38;5;241m.\u001b[39mread()\n",
      "File \u001b[0;32m/opt/anaconda3/lib/python3.11/urllib/request.py:216\u001b[0m, in \u001b[0;36murlopen\u001b[0;34m(url, data, timeout, cafile, capath, cadefault, context)\u001b[0m\n\u001b[1;32m    215\u001b[0m     opener \u001b[38;5;241m=\u001b[39m _opener\n\u001b[0;32m--> 216\u001b[0m \u001b[38;5;28;01mreturn\u001b[39;00m opener\u001b[38;5;241m.\u001b[39mopen(url, data, timeout)\n",
      "File \u001b[0;32m/opt/anaconda3/lib/python3.11/urllib/request.py:503\u001b[0m, in \u001b[0;36mOpenerDirector.open\u001b[0;34m(self, fullurl, data, timeout)\u001b[0m\n\u001b[1;32m    502\u001b[0m \u001b[38;5;28;01mif\u001b[39;00m \u001b[38;5;28misinstance\u001b[39m(fullurl, \u001b[38;5;28mstr\u001b[39m):\n\u001b[0;32m--> 503\u001b[0m     req \u001b[38;5;241m=\u001b[39m Request(fullurl, data)\n\u001b[1;32m    504\u001b[0m \u001b[38;5;28;01melse\u001b[39;00m:\n",
      "File \u001b[0;32m/opt/anaconda3/lib/python3.11/urllib/request.py:322\u001b[0m, in \u001b[0;36mRequest.__init__\u001b[0;34m(self, url, data, headers, origin_req_host, unverifiable, method)\u001b[0m\n\u001b[1;32m    319\u001b[0m \u001b[38;5;28;01mdef\u001b[39;00m \u001b[38;5;21m__init__\u001b[39m(\u001b[38;5;28mself\u001b[39m, url, data\u001b[38;5;241m=\u001b[39m\u001b[38;5;28;01mNone\u001b[39;00m, headers\u001b[38;5;241m=\u001b[39m{},\n\u001b[1;32m    320\u001b[0m              origin_req_host\u001b[38;5;241m=\u001b[39m\u001b[38;5;28;01mNone\u001b[39;00m, unverifiable\u001b[38;5;241m=\u001b[39m\u001b[38;5;28;01mFalse\u001b[39;00m,\n\u001b[1;32m    321\u001b[0m              method\u001b[38;5;241m=\u001b[39m\u001b[38;5;28;01mNone\u001b[39;00m):\n\u001b[0;32m--> 322\u001b[0m     \u001b[38;5;28mself\u001b[39m\u001b[38;5;241m.\u001b[39mfull_url \u001b[38;5;241m=\u001b[39m url\n\u001b[1;32m    323\u001b[0m     \u001b[38;5;28mself\u001b[39m\u001b[38;5;241m.\u001b[39mheaders \u001b[38;5;241m=\u001b[39m {}\n",
      "File \u001b[0;32m/opt/anaconda3/lib/python3.11/urllib/request.py:348\u001b[0m, in \u001b[0;36mRequest.full_url\u001b[0;34m(self, url)\u001b[0m\n\u001b[1;32m    347\u001b[0m \u001b[38;5;28mself\u001b[39m\u001b[38;5;241m.\u001b[39m_full_url, \u001b[38;5;28mself\u001b[39m\u001b[38;5;241m.\u001b[39mfragment \u001b[38;5;241m=\u001b[39m _splittag(\u001b[38;5;28mself\u001b[39m\u001b[38;5;241m.\u001b[39m_full_url)\n\u001b[0;32m--> 348\u001b[0m \u001b[38;5;28mself\u001b[39m\u001b[38;5;241m.\u001b[39m_parse()\n",
      "File \u001b[0;32m/opt/anaconda3/lib/python3.11/urllib/request.py:377\u001b[0m, in \u001b[0;36mRequest._parse\u001b[0;34m(self)\u001b[0m\n\u001b[1;32m    376\u001b[0m \u001b[38;5;28;01mif\u001b[39;00m \u001b[38;5;28mself\u001b[39m\u001b[38;5;241m.\u001b[39mtype \u001b[38;5;129;01mis\u001b[39;00m \u001b[38;5;28;01mNone\u001b[39;00m:\n\u001b[0;32m--> 377\u001b[0m     \u001b[38;5;28;01mraise\u001b[39;00m \u001b[38;5;167;01mValueError\u001b[39;00m(\u001b[38;5;124m\"\u001b[39m\u001b[38;5;124munknown url type: \u001b[39m\u001b[38;5;132;01m%r\u001b[39;00m\u001b[38;5;124m\"\u001b[39m \u001b[38;5;241m%\u001b[39m \u001b[38;5;28mself\u001b[39m\u001b[38;5;241m.\u001b[39mfull_url)\n\u001b[1;32m    378\u001b[0m \u001b[38;5;28mself\u001b[39m\u001b[38;5;241m.\u001b[39mhost, \u001b[38;5;28mself\u001b[39m\u001b[38;5;241m.\u001b[39mselector \u001b[38;5;241m=\u001b[39m _splithost(rest)\n",
      "\u001b[0;31mValueError\u001b[0m: unknown url type: 'OpenSans-VariableFont_wdth,wght.ttf'",
      "\nDuring handling of the above exception, another exception occurred:\n",
      "\u001b[0;31mOSError\u001b[0m                                   Traceback (most recent call last)",
      "File \u001b[0;32m/opt/anaconda3/lib/python3.11/site-packages/reportlab/pdfbase/ttfonts.py:151\u001b[0m, in \u001b[0;36mTTFOpenFile\u001b[0;34m(fn)\u001b[0m\n\u001b[1;32m    150\u001b[0m \u001b[38;5;28;01mtry\u001b[39;00m:\n\u001b[0;32m--> 151\u001b[0m     f \u001b[38;5;241m=\u001b[39m open_for_read(fn,\u001b[38;5;124m'\u001b[39m\u001b[38;5;124mrb\u001b[39m\u001b[38;5;124m'\u001b[39m)\n\u001b[1;32m    152\u001b[0m     \u001b[38;5;28;01mreturn\u001b[39;00m fn, f\n",
      "File \u001b[0;32m/opt/anaconda3/lib/python3.11/site-packages/reportlab/lib/utils.py:534\u001b[0m, in \u001b[0;36mopen_for_read\u001b[0;34m(name, mode)\u001b[0m\n\u001b[1;32m    533\u001b[0m \u001b[38;5;28mglobals\u001b[39m()[\u001b[38;5;124m'\u001b[39m\u001b[38;5;124mopen_for_read\u001b[39m\u001b[38;5;124m'\u001b[39m] \u001b[38;5;241m=\u001b[39m open_for_read\n\u001b[0;32m--> 534\u001b[0m \u001b[38;5;28;01mreturn\u001b[39;00m open_for_read(name,mode)\n",
      "File \u001b[0;32m/opt/anaconda3/lib/python3.11/site-packages/reportlab/lib/utils.py:532\u001b[0m, in \u001b[0;36mopen_for_read.<locals>.open_for_read\u001b[0;34m(name, mode)\u001b[0m\n\u001b[1;32m    531\u001b[0m \u001b[38;5;28;01mexcept\u001b[39;00m:\n\u001b[0;32m--> 532\u001b[0m     \u001b[38;5;28;01mraise\u001b[39;00m \u001b[38;5;167;01mIOError\u001b[39;00m(\u001b[38;5;124m'\u001b[39m\u001b[38;5;124mCannot open resource \u001b[39m\u001b[38;5;124m\"\u001b[39m\u001b[38;5;132;01m%s\u001b[39;00m\u001b[38;5;124m\"\u001b[39m\u001b[38;5;124m'\u001b[39m \u001b[38;5;241m%\u001b[39m name)\n",
      "\u001b[0;31mOSError\u001b[0m: Cannot open resource \"OpenSans-VariableFont_wdth,wght.ttf\"",
      "\nDuring handling of the above exception, another exception occurred:\n",
      "\u001b[0;31mTTFError\u001b[0m                                  Traceback (most recent call last)",
      "Cell \u001b[0;32mIn[5], line 1\u001b[0m\n\u001b[0;32m----> 1\u001b[0m pdfmetrics\u001b[38;5;241m.\u001b[39mregisterFont(TTFont(\u001b[38;5;124m'\u001b[39m\u001b[38;5;124mOpenSans\u001b[39m\u001b[38;5;124m'\u001b[39m, font_path))\n\u001b[1;32m      2\u001b[0m can\u001b[38;5;241m.\u001b[39msetFont(\u001b[38;5;124m'\u001b[39m\u001b[38;5;124mFreeSans\u001b[39m\u001b[38;5;124m'\u001b[39m, \u001b[38;5;241m12\u001b[39m)\n",
      "File \u001b[0;32m/opt/anaconda3/lib/python3.11/site-packages/reportlab/pdfbase/ttfonts.py:1192\u001b[0m, in \u001b[0;36mTTFont.__init__\u001b[0;34m(self, name, filename, validate, subfontIndex, asciiReadable)\u001b[0m\n\u001b[1;32m   1186\u001b[0m \u001b[38;5;250m\u001b[39m\u001b[38;5;124;03m\"\"\"Loads a TrueType font from filename.\u001b[39;00m\n\u001b[1;32m   1187\u001b[0m \n\u001b[1;32m   1188\u001b[0m \u001b[38;5;124;03mIf validate is set to a false values, skips checksum validation.  This\u001b[39;00m\n\u001b[1;32m   1189\u001b[0m \u001b[38;5;124;03mcan save time, especially if the font is large.\u001b[39;00m\n\u001b[1;32m   1190\u001b[0m \u001b[38;5;124;03m\"\"\"\u001b[39;00m\n\u001b[1;32m   1191\u001b[0m \u001b[38;5;28mself\u001b[39m\u001b[38;5;241m.\u001b[39mfontName \u001b[38;5;241m=\u001b[39m name\n\u001b[0;32m-> 1192\u001b[0m \u001b[38;5;28mself\u001b[39m\u001b[38;5;241m.\u001b[39mface \u001b[38;5;241m=\u001b[39m TTFontFace(filename, validate\u001b[38;5;241m=\u001b[39mvalidate, subfontIndex\u001b[38;5;241m=\u001b[39msubfontIndex)\n\u001b[1;32m   1193\u001b[0m \u001b[38;5;28mself\u001b[39m\u001b[38;5;241m.\u001b[39mencoding \u001b[38;5;241m=\u001b[39m TTEncoding()\n\u001b[1;32m   1194\u001b[0m \u001b[38;5;28;01mfrom\u001b[39;00m \u001b[38;5;21;01mweakref\u001b[39;00m \u001b[38;5;28;01mimport\u001b[39;00m WeakKeyDictionary\n",
      "File \u001b[0;32m/opt/anaconda3/lib/python3.11/site-packages/reportlab/pdfbase/ttfonts.py:1073\u001b[0m, in \u001b[0;36mTTFontFace.__init__\u001b[0;34m(self, filename, validate, subfontIndex)\u001b[0m\n\u001b[1;32m   1071\u001b[0m \u001b[38;5;124m\"\u001b[39m\u001b[38;5;124mLoads a TrueType font from filename.\u001b[39m\u001b[38;5;124m\"\u001b[39m\n\u001b[1;32m   1072\u001b[0m pdfmetrics\u001b[38;5;241m.\u001b[39mTypeFace\u001b[38;5;241m.\u001b[39m\u001b[38;5;21m__init__\u001b[39m(\u001b[38;5;28mself\u001b[39m, \u001b[38;5;28;01mNone\u001b[39;00m)\n\u001b[0;32m-> 1073\u001b[0m TTFontFile\u001b[38;5;241m.\u001b[39m\u001b[38;5;21m__init__\u001b[39m(\u001b[38;5;28mself\u001b[39m, filename, validate\u001b[38;5;241m=\u001b[39mvalidate, subfontIndex\u001b[38;5;241m=\u001b[39msubfontIndex)\n",
      "File \u001b[0;32m/opt/anaconda3/lib/python3.11/site-packages/reportlab/pdfbase/ttfonts.py:439\u001b[0m, in \u001b[0;36mTTFontFile.__init__\u001b[0;34m(self, file, charInfo, validate, subfontIndex)\u001b[0m\n\u001b[1;32m    437\u001b[0m         \u001b[38;5;28mself\u001b[39m\u001b[38;5;241m.\u001b[39m\u001b[38;5;18m__dict__\u001b[39m\u001b[38;5;241m.\u001b[39mupdate(\u001b[38;5;18m__dict__\u001b[39m)\n\u001b[1;32m    438\u001b[0m \u001b[38;5;28;01melse\u001b[39;00m:\n\u001b[0;32m--> 439\u001b[0m     TTFontParser\u001b[38;5;241m.\u001b[39m\u001b[38;5;21m__init__\u001b[39m(\u001b[38;5;28mself\u001b[39m, file, validate\u001b[38;5;241m=\u001b[39mvalidate,subfontIndex\u001b[38;5;241m=\u001b[39msubfontIndex)\n\u001b[1;32m    440\u001b[0m     \u001b[38;5;28mself\u001b[39m\u001b[38;5;241m.\u001b[39mextractInfo(charInfo)\n",
      "File \u001b[0;32m/opt/anaconda3/lib/python3.11/site-packages/reportlab/pdfbase/ttfonts.py:175\u001b[0m, in \u001b[0;36mTTFontParser.__init__\u001b[0;34m(self, file, validate, subfontIndex)\u001b[0m\n\u001b[1;32m    170\u001b[0m \u001b[38;5;250m\u001b[39m\u001b[38;5;124;03m\"\"\"Loads and parses a TrueType font file.  file can be a filename or a\u001b[39;00m\n\u001b[1;32m    171\u001b[0m \u001b[38;5;124;03mfile object.  If validate is set to a false values, skips checksum\u001b[39;00m\n\u001b[1;32m    172\u001b[0m \u001b[38;5;124;03mvalidation.  This can save time, especially if the font is large.\u001b[39;00m\n\u001b[1;32m    173\u001b[0m \u001b[38;5;124;03m\"\"\"\u001b[39;00m\n\u001b[1;32m    174\u001b[0m \u001b[38;5;28mself\u001b[39m\u001b[38;5;241m.\u001b[39mvalidate \u001b[38;5;241m=\u001b[39m validate\n\u001b[0;32m--> 175\u001b[0m \u001b[38;5;28mself\u001b[39m\u001b[38;5;241m.\u001b[39mreadFile(file)\n\u001b[1;32m    176\u001b[0m isCollection \u001b[38;5;241m=\u001b[39m \u001b[38;5;28mself\u001b[39m\u001b[38;5;241m.\u001b[39mreadHeader()\n\u001b[1;32m    177\u001b[0m \u001b[38;5;28;01mif\u001b[39;00m isCollection:\n",
      "File \u001b[0;32m/opt/anaconda3/lib/python3.11/site-packages/reportlab/pdfbase/ttfonts.py:251\u001b[0m, in \u001b[0;36mTTFontParser.readFile\u001b[0;34m(self, f)\u001b[0m\n\u001b[1;32m    249\u001b[0m     \u001b[38;5;28mself\u001b[39m\u001b[38;5;241m.\u001b[39m_ttf_data \u001b[38;5;241m=\u001b[39m f\u001b[38;5;241m.\u001b[39mread()\n\u001b[1;32m    250\u001b[0m \u001b[38;5;28;01melse\u001b[39;00m:\n\u001b[0;32m--> 251\u001b[0m     \u001b[38;5;28mself\u001b[39m\u001b[38;5;241m.\u001b[39mfilename, f \u001b[38;5;241m=\u001b[39m TTFOpenFile(f)\n\u001b[1;32m    252\u001b[0m     \u001b[38;5;28mself\u001b[39m\u001b[38;5;241m.\u001b[39m_ttf_data \u001b[38;5;241m=\u001b[39m f\u001b[38;5;241m.\u001b[39mread()\n\u001b[1;32m    253\u001b[0m     f\u001b[38;5;241m.\u001b[39mclose()\n",
      "File \u001b[0;32m/opt/anaconda3/lib/python3.11/site-packages/reportlab/pdfbase/ttfonts.py:161\u001b[0m, in \u001b[0;36mTTFOpenFile\u001b[0;34m(fn)\u001b[0m\n\u001b[1;32m    159\u001b[0m             f \u001b[38;5;241m=\u001b[39m open_for_read(tfn,\u001b[38;5;124m'\u001b[39m\u001b[38;5;124mrb\u001b[39m\u001b[38;5;124m'\u001b[39m)\n\u001b[1;32m    160\u001b[0m             \u001b[38;5;28;01mreturn\u001b[39;00m tfn, f\n\u001b[0;32m--> 161\u001b[0m \u001b[38;5;28;01mraise\u001b[39;00m TTFError(\u001b[38;5;124m'\u001b[39m\u001b[38;5;124mCan\u001b[39m\u001b[38;5;130;01m\\'\u001b[39;00m\u001b[38;5;124mt open file \u001b[39m\u001b[38;5;124m\"\u001b[39m\u001b[38;5;132;01m%s\u001b[39;00m\u001b[38;5;124m\"\u001b[39m\u001b[38;5;124m'\u001b[39m \u001b[38;5;241m%\u001b[39m fn)\n",
      "\u001b[0;31mTTFError\u001b[0m: Can't open file \"OpenSans-VariableFont_wdth,wght.ttf\""
     ]
    }
   ],
   "source": [
    "pdfmetrics.registerFont(TTFont('OpenSans', font_path))\n",
    "can.setFont('FreeSans', 12)"
   ]
  },
  {
   "cell_type": "code",
   "execution_count": null,
   "metadata": {},
   "outputs": [],
   "source": []
  }
 ],
 "metadata": {
  "kernelspec": {
   "display_name": "base",
   "language": "python",
   "name": "python3"
  },
  "language_info": {
   "codemirror_mode": {
    "name": "ipython",
    "version": 3
   },
   "file_extension": ".py",
   "mimetype": "text/x-python",
   "name": "python",
   "nbconvert_exporter": "python",
   "pygments_lexer": "ipython3",
   "version": "3.11.0"
  }
 },
 "nbformat": 4,
 "nbformat_minor": 2
}
